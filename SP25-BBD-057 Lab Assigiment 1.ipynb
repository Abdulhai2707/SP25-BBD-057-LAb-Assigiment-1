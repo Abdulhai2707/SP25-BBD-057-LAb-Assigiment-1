{
 "cells": [
  {
   "cell_type": "code",
   "execution_count": 2,
   "metadata": {},
   "outputs": [
    {
     "name": "stdout",
     "output_type": "stream",
     "text": [
      "['anvegers', 'venom', 'openhemir']\n"
     ]
    }
   ],
   "source": [
    "# Question 1 Creat A List Of Movies\n",
    "movies=['anvegers','venom','openhemir']\n",
    "print(movies)"
   ]
  },
  {
   "cell_type": "code",
   "execution_count": 4,
   "metadata": {},
   "outputs": [
    {
     "name": "stdout",
     "output_type": "stream",
     "text": [
      "Anvegers\n",
      "Venom\n",
      "Openhemir\n"
     ]
    }
   ],
   "source": [
    "for movie in movies :\n",
    "    print(movie.title())"
   ]
  },
  {
   "cell_type": "code",
   "execution_count": 6,
   "metadata": {},
   "outputs": [
    {
     "name": "stdout",
     "output_type": "stream",
     "text": [
      "anvegers\n",
      "venom\n",
      "openhemir\n",
      "0\n",
      "1\n"
     ]
    }
   ],
   "source": [
    "for movie in movies:\n",
    "    print(movie)\n",
    "for i in range(2):\n",
    "    print(i)    "
   ]
  },
  {
   "cell_type": "code",
   "execution_count": 8,
   "metadata": {},
   "outputs": [
    {
     "name": "stdout",
     "output_type": "stream",
     "text": [
      "0:anvegers\n",
      "1:venom\n",
      "2:openhemir\n"
     ]
    }
   ],
   "source": [
    "for i in range (len(movies)):\n",
    "    print(f'{i}:{movies[i]}')"
   ]
  },
  {
   "cell_type": "code",
   "execution_count": 1,
   "metadata": {},
   "outputs": [
    {
     "name": "stdout",
     "output_type": "stream",
     "text": [
      "A\n",
      "b\n",
      "d\n",
      "u\n",
      "l\n",
      " \n",
      "H\n",
      "A\n",
      "i\n"
     ]
    }
   ],
   "source": [
    "name = \"Abdul HAi\"\n",
    "for char in name :\n",
    "    print (char)"
   ]
  },
  {
   "cell_type": "code",
   "execution_count": 2,
   "metadata": {},
   "outputs": [
    {
     "name": "stdout",
     "output_type": "stream",
     "text": [
      "Number of vowels: 4\n"
     ]
    }
   ],
   "source": [
    "name=\"Abdul HAi\"\n",
    "vowels=\"aeiouAEIOU\"\n",
    "count=sum(1 for char in name if char in vowels)\n",
    "print(\"Number of vowels:\",count)"
   ]
  },
  {
   "cell_type": "code",
   "execution_count": 3,
   "metadata": {},
   "outputs": [
    {
     "name": "stdout",
     "output_type": "stream",
     "text": [
      "Abdul Hai\n"
     ]
    }
   ],
   "source": [
    "name =\"Abdul Hai\"\n",
    "print (name)"
   ]
  },
  {
   "cell_type": "code",
   "execution_count": null,
   "metadata": {},
   "outputs": [],
   "source": []
  }
 ],
 "metadata": {
  "kernelspec": {
   "display_name": "base",
   "language": "python",
   "name": "python3"
  },
  "language_info": {
   "codemirror_mode": {
    "name": "ipython",
    "version": 3
   },
   "file_extension": ".py",
   "mimetype": "text/x-python",
   "name": "python",
   "nbconvert_exporter": "python",
   "pygments_lexer": "ipython3",
   "version": "3.12.7"
  }
 },
 "nbformat": 4,
 "nbformat_minor": 2
}
